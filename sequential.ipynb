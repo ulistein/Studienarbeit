{
 "cells": [
  {
   "cell_type": "markdown",
   "metadata": {},
   "source": [
    "### 1)\n",
    "- image = cv2.imread('your_image_path.jpg')\n",
    "- (240, 320, 3)\n",
    "- Early Assumption, the model could have 4 or 6 classes to  \n",
    "- The shape is the inputinformation for the network"
   ]
  },
  {
   "cell_type": "markdown",
   "metadata": {},
   "source": [
    "### 2a) \n",
    "for the solution to work with 6 subfolders, adjust the assignment of numerical values to y_train with the filenames, blue, blue_fail, red, red_fail, white, white_fail and add to more number(4 and 5)"
   ]
  },
  {
   "cell_type": "code",
   "execution_count": null,
   "metadata": {},
   "outputs": [],
   "source": [
    "# trainingset\n",
    "# Initialize empty lists for data and labels\n",
    "x_train = []\n",
    "y_train = []\n",
    "\n",
    "# Define the path to your training dataset directory\n",
    "training_directory = 'Trainingssets/train_four_label'\n",
    "\n",
    "# Iterate over subdirectories (classes) in the training dataset directory\n",
    "for class_name in os.listdir(training_directory):\n",
    "    class_dir = os.path.join(training_directory, class_name)\n",
    "\n",
    "    # Iterate over image files in the class directory\n",
    "    for image_name in os.listdir(class_dir):\n",
    "        image_path = os.path.join(class_dir, image_name)\n",
    "\n",
    "        # Load image\n",
    "        image = cv2.imread(image_path)\n",
    "\n",
    "        # Normalize pixel values\n",
    "        image = image / 255.0\n",
    "\n",
    "        # Append image to data list\n",
    "        x_train.append(image)\n",
    "\n",
    "        # Assign numerical label based on filename\n",
    "        if \"blue\" in image_name:\n",
    "            y_train.append(0)\n",
    "        elif \"fail\" in image_name:\n",
    "            y_train.append(1)\n",
    "        elif \"red\" in image_name:\n",
    "            y_train.append(2)\n",
    "        elif \"white\" in image_name:\n",
    "            y_train.append(3)\n",
    "print(\"Number of training samples:\", len(x_train))\n",
    "print(\"Number of training labels:\", len(y_train))"
   ]
  },
  {
   "cell_type": "code",
   "execution_count": null,
   "metadata": {},
   "outputs": [],
   "source": [
    "#testset\n",
    "# testset\n",
    "# Initialize empty lists for data and labels\n",
    "x_test = []\n",
    "y_test = []\n",
    "\n",
    "# Define the path to your training dataset directory\n",
    "training_directory = 'Testsets/test_four_label'\n",
    "\n",
    "# Iterate over subdirectories (classes) in the training dataset directory\n",
    "for class_name in os.listdir(training_directory):\n",
    "    class_dir = os.path.join(training_directory, class_name)\n",
    "\n",
    "    # Iterate over image files in the class directory\n",
    "    for image_name in os.listdir(class_dir):\n",
    "        image_path = os.path.join(class_dir, image_name)\n",
    "\n",
    "        # Load image\n",
    "        image = cv2.imread(image_path)\n",
    "\n",
    "        # Normalize pixel values\n",
    "        image = image / 255.0\n",
    "\n",
    "        # Append image to data list\n",
    "        x_test.append(image)\n",
    "\n",
    "        # Assign numerical label based on filename\n",
    "        if \"blue\" in image_name:\n",
    "            y_test.append(0)\n",
    "        elif \"fail\" in image_name:\n",
    "            y_test.append(1)\n",
    "        elif \"red\" in image_name:\n",
    "            y_test.append(2)\n",
    "        elif \"white\" in image_name:\n",
    "            y_test.append(3)\n",
    "\n",
    "# Print the loaded data and labels\n",
    "print(\"Number of test samples:\", len(x_test))\n",
    "print(\"Number of test labels:\", len(y_test))"
   ]
  },
  {
   "cell_type": "markdown",
   "metadata": {},
   "source": [
    "### 2b)\n",
    "The Imagedatagenerator can be configured to automaticly normalize the data, can label based on the folder structure and can augment the data on the fly. The batch can be configured in the Generator."
   ]
  },
  {
   "cell_type": "code",
   "execution_count": null,
   "metadata": {},
   "outputs": [],
   "source": [
    "#trainingset\n",
    "# traindirectory\n",
    "data_dir_train = 'Trainingssets/train_six_label'\n",
    "\n",
    "# generate Datengeneratoren\n",
    "datagen = ImageDataGenerator(rescale=1/255.,\n",
    "    width_shift_range=0.1,\n",
    "    height_shift_range=0.1,\n",
    "    horizontal_flip=True,\n",
    "    fill_mode='nearest')\n",
    "\n",
    "# Training Datengenerator\n",
    "train_generator = datagen.flow_from_directory(\n",
    "    data_dir_train,\n",
    "    target_size=(240, 320),\n",
    "    batch_size=32,\n",
    "    class_mode='categorical',\n",
    "    subset='training'\n",
    ")\n",
    "\n",
    "class_indices = train_generator.class_indices\n",
    "\n",
    "# Print the class indices\n",
    "print(\"Class indices:\", class_indices)"
   ]
  },
  {
   "cell_type": "code",
   "execution_count": null,
   "metadata": {},
   "outputs": [],
   "source": [
    "# Testset\n",
    "# testdirectory\n",
    "data_dir_eval = 'Testsets/test_six_label'\n",
    "\n",
    "# configure evaluationgenerator\n",
    "eval_datagen = ImageDataGenerator(rescale=1/255.)\n",
    "\n",
    "# create a evaluationset\n",
    "eval_generator = eval_datagen.flow_from_directory(\n",
    "    data_dir_eval,\n",
    "    target_size=(240, 320),  \n",
    "    batch_size=32,\n",
    "    class_mode='categorical',\n",
    "    shuffle=False\n",
    ")\n",
    "class_indices = eval_generator.class_indices\n",
    "\n",
    "# Print the class indices\n",
    "print(\"Class indices:\", class_indices)"
   ]
  },
  {
   "cell_type": "markdown",
   "metadata": {},
   "source": [
    "### 3) \n",
    "This is just a suggestion, try around to get a good model"
   ]
  },
  {
   "cell_type": "code",
   "execution_count": null,
   "metadata": {},
   "outputs": [],
   "source": [
    "model = Sequential()\n",
    "model.add(Conv2D(16, (3, 3), activation='relu', input_shape=(240, 320, 3)))\n",
    "model.add(MaxPooling2D((2, 2)))\n",
    "model.add(Conv2D(32, (3, 3), activation='relu'))\n",
    "model.add(MaxPooling2D((2, 2)))\n",
    "model.add(Conv2D(64, (3, 3), activation='relu'))\n",
    "model.add(MaxPooling2D((2, 2)))\n",
    "model.add(Conv2D(128, (3, 3), activation='relu'))\n",
    "model.add(Flatten())\n",
    "model.add(Dense(64, activation='relu'))\n",
    "model.add(Dense(32, activation='relu'))\n",
    "model.add(Dense(4, activation='softmax'))\n",
    "\n",
    "# Modell kompilieren\n",
    "opt = keras.optimizers.Adam(learning_rate=0.001)\n",
    "model.compile(optimizer=opt, loss='categorical_crossentropy', metrics=['accuracy'])"
   ]
  },
  {
   "cell_type": "markdown",
   "metadata": {},
   "source": [
    "### 3a)"
   ]
  },
  {
   "cell_type": "code",
   "execution_count": null,
   "metadata": {},
   "outputs": [],
   "source": [
    "#option1\n",
    "model.fit(x_train, y_train, epochs=10, batch_size=32)\n",
    "\n",
    "#option2\n",
    "model.fit(train_generator, epochs=10)"
   ]
  },
  {
   "cell_type": "markdown",
   "metadata": {},
   "source": [
    "### 3b)\n",
    "Optimize Options:\n",
    "- Dataaugmentation -> more Data\n",
    "- Train longer -> more epochs\n",
    "- increase the complexity of the network -> more Layers"
   ]
  },
  {
   "cell_type": "code",
   "execution_count": null,
   "metadata": {},
   "outputs": [],
   "source": [
    "#option 1\n",
    "model.evaluate(x_test, y_test)\n",
    "#option 2\n",
    "model.evaluate(eval_generator)"
   ]
  },
  {
   "cell_type": "markdown",
   "metadata": {},
   "source": [
    "### 4)"
   ]
  },
  {
   "cell_type": "code",
   "execution_count": null,
   "metadata": {},
   "outputs": [],
   "source": [
    "#Dataaugmentation\n",
    "# ImageDatagenerator\n",
    "datagen = ImageDataGenerator(rescale=1/255.,\n",
    "    width_shift_range=0.1,\n",
    "    height_shift_range=0.1,\n",
    "    horizontal_flip=True,\n",
    "    fill_mode='nearest')\n",
    "\n",
    "# Keras Layers\n",
    "model.add(RandomFlip(\"horizontal\"))\n",
    "model.add(RandomRotation(0.1))\n",
    "model.add(RandomZoom(0.1))"
   ]
  },
  {
   "cell_type": "code",
   "execution_count": null,
   "metadata": {},
   "outputs": [],
   "source": [
    "#early stopping\n",
    "early_stopping = EarlyStopping(monitor='val_accuracy', patience=10, restore_best_weights=True)\n",
    "model.fit(train_generator, epochs=200, validation_data=eval_generator, callbacks=[early_stopping])\n",
    "#dropout\n",
    "model.add(Dropout(0.1))"
   ]
  }
 ],
 "metadata": {
  "kernelspec": {
   "display_name": "Python 3",
   "language": "python",
   "name": "python3"
  },
  "language_info": {
   "name": "python",
   "version": "3.11.6"
  }
 },
 "nbformat": 4,
 "nbformat_minor": 2
}
